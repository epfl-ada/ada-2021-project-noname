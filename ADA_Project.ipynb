{
  "nbformat": 4,
  "nbformat_minor": 0,
  "metadata": {
    "colab": {
      "name": "ADA_Project.ipynb",
      "provenance": [],
      "collapsed_sections": []
    },
    "kernelspec": {
      "name": "python3",
      "display_name": "Python 3"
    },
    "language_info": {
      "name": "python"
    }
  },
  "cells": [
    {
      "cell_type": "markdown",
      "metadata": {
        "id": "mdMOeOf0ljPM"
      },
      "source": [
        "#Advanced Data Analysis Project\n",
        "##Elon musk quotes and Tesla stock price \n",
        "\n"
      ]
    },
    {
      "cell_type": "code",
      "metadata": {
        "id": "U4Ys7uIDhY7L",
        "colab": {
          "base_uri": "https://localhost:8080/"
        },
        "outputId": "aa6fbb0a-e782-4d84-f745-fcc9932ee412"
      },
      "source": [
        "import json \n",
        "import bz2\n",
        "import csv \n",
        "import pandas as pd \n",
        "import numpy as np \n",
        "import matplotlib.pyplot as plt\n",
        "import pandas_datareader as web \n",
        "import re, string\n",
        "import nltk \n",
        "from nltk.corpus import wordnet \n",
        "from nltk.corpus import stopwords\n",
        "from nltk.stem import WordNetLemmatizer \n",
        "from textblob import TextBlob\n",
        "nltk.download('punkt')\n",
        "nltk.download('wordnet')\n",
        "nltk.download('averaged_perceptron_tagger')"
      ],
      "execution_count": null,
      "outputs": [
        {
          "output_type": "stream",
          "name": "stdout",
          "text": [
            "[nltk_data] Downloading package punkt to /root/nltk_data...\n",
            "[nltk_data]   Package punkt is already up-to-date!\n",
            "[nltk_data] Downloading package wordnet to /root/nltk_data...\n",
            "[nltk_data]   Package wordnet is already up-to-date!\n",
            "[nltk_data] Downloading package averaged_perceptron_tagger to\n",
            "[nltk_data]     /root/nltk_data...\n",
            "[nltk_data]   Unzipping taggers/averaged_perceptron_tagger.zip.\n"
          ]
        },
        {
          "output_type": "execute_result",
          "data": {
            "text/plain": [
              "True"
            ]
          },
          "metadata": {},
          "execution_count": 43
        }
      ]
    },
    {
      "cell_type": "code",
      "metadata": {
        "id": "dZJKXJrq35UI",
        "colab": {
          "base_uri": "https://localhost:8080/"
        },
        "outputId": "bbb8f948-d915-4e77-af11-859261aec742"
      },
      "source": [
        "from google.colab import drive\n",
        "drive.mount('/content/drive')"
      ],
      "execution_count": null,
      "outputs": [
        {
          "output_type": "stream",
          "name": "stdout",
          "text": [
            "Drive already mounted at /content/drive; to attempt to forcibly remount, call drive.mount(\"/content/drive\", force_remount=True).\n"
          ]
        }
      ]
    },
    {
      "cell_type": "code",
      "metadata": {
        "id": "MuxeRn272Ttt"
      },
      "source": [
        "!pip install --upgrade pandas\n",
        "!pip install --upgrade pandas-datareader"
      ],
      "execution_count": null,
      "outputs": []
    },
    {
      "cell_type": "markdown",
      "metadata": {
        "id": "C-T3ECdH8D-p"
      },
      "source": [
        "***Crate two lists with the paths containing the files to read and where to write the new filtered ones***"
      ]
    },
    {
      "cell_type": "code",
      "metadata": {
        "id": "Hrt9HKRh8G3e"
      },
      "source": [
        "path_to_file = [ '/content/drive/MyDrive/Quotebank/quotes-2020.json.bz2', \n",
        "                 '/content/drive/MyDrive/Quotebank/quotes-2019.json.bz2',\n",
        "                 '/content/drive/MyDrive/Quotebank/quotes-2018.json.bz2',\n",
        "                 '/content/drive/MyDrive/Quotebank/quotes-2017.json.bz2',\n",
        "                 '/content/drive/MyDrive/Quotebank/quotes-2016.json.bz2',\n",
        "                 '/content/drive/MyDrive/Quotebank/quotes-2015.json.bz2',\n",
        "]\n",
        "path_to_out = ['/content/drive/MyDrive/2020-ElonMusk.json.bz2',\n",
        "               '/content/drive/MyDrive/2019-ElonMusk.json.bz2',\n",
        "               '/content/drive/MyDrive/2018-ElonMusk.json.bz2',\n",
        "               '/content/drive/MyDrive/2017-ElonMusk.json.bz2',\n",
        "               '/content/drive/MyDrive/2016-ElonMusk.json.bz2',\n",
        "               '/content/drive/MyDrive/2015-ElonMusk.json.bz2']\n"
      ],
      "execution_count": null,
      "outputs": []
    },
    {
      "cell_type": "markdown",
      "metadata": {
        "id": "ckLPTw-98aK1"
      },
      "source": [
        "***We first load all the QuoteBank data but only write on new files quotes that have Elon Musk as a speaker from 2015 to 2020***"
      ]
    },
    {
      "cell_type": "code",
      "metadata": {
        "id": "-zs_Na2s8gNs"
      },
      "source": [
        "for path_to, path_out in zip(path_to_file,path_to_out):\n",
        "  with bz2.open(path_to, 'rb') as s_file:\n",
        "    with bz2.open(path_out, 'wb') as d_file:\n",
        "        for instance in s_file:\n",
        "            instance = json.loads(instance) # loading a sample\n",
        "            if instance['speaker'] == 'Elon Musk':\n",
        "               d_file.write((json.dumps(instance)+'\\n').encode('utf-8')) # writing in the new file"
      ],
      "execution_count": null,
      "outputs": []
    },
    {
      "cell_type": "markdown",
      "metadata": {
        "id": "ukrGYg2i8fU_"
      },
      "source": [
        "***The json file obtained for each year are loaded into a single dataframe***"
      ]
    },
    {
      "cell_type": "code",
      "metadata": {
        "colab": {
          "base_uri": "https://localhost:8080/",
          "height": 585
        },
        "id": "hSL4dFPq8rMg",
        "outputId": "e58d6b48-3fd1-4070-ad46-617b6856834f"
      },
      "source": [
        "df_musk = pd.DataFrame()\n",
        "for path in path_to_out:\n",
        "  df = pd.read_json(path, lines=True)\n",
        "  df_musk = pd.concat([df,df_musk],ignore_index=True)\n",
        "df_musk"
      ],
      "execution_count": null,
      "outputs": [
        {
          "output_type": "execute_result",
          "data": {
            "text/html": [
              "<div>\n",
              "<style scoped>\n",
              "    .dataframe tbody tr th:only-of-type {\n",
              "        vertical-align: middle;\n",
              "    }\n",
              "\n",
              "    .dataframe tbody tr th {\n",
              "        vertical-align: top;\n",
              "    }\n",
              "\n",
              "    .dataframe thead th {\n",
              "        text-align: right;\n",
              "    }\n",
              "</style>\n",
              "<table border=\"1\" class=\"dataframe\">\n",
              "  <thead>\n",
              "    <tr style=\"text-align: right;\">\n",
              "      <th></th>\n",
              "      <th>quoteID</th>\n",
              "      <th>quotation</th>\n",
              "      <th>speaker</th>\n",
              "      <th>qids</th>\n",
              "      <th>date</th>\n",
              "      <th>numOccurrences</th>\n",
              "      <th>probas</th>\n",
              "      <th>urls</th>\n",
              "      <th>phase</th>\n",
              "    </tr>\n",
              "  </thead>\n",
              "  <tbody>\n",
              "    <tr>\n",
              "      <th>0</th>\n",
              "      <td>2015-08-07-046061</td>\n",
              "      <td>If I had to guess at what our biggest existent...</td>\n",
              "      <td>Elon Musk</td>\n",
              "      <td>[Q317521]</td>\n",
              "      <td>2015-08-07 21:25:54</td>\n",
              "      <td>1</td>\n",
              "      <td>[[Elon Musk, 0.7445], [None, 0.2555]]</td>\n",
              "      <td>[http://techcrunch.com/2015/08/07/how-consumer...</td>\n",
              "      <td>E</td>\n",
              "    </tr>\n",
              "    <tr>\n",
              "      <th>1</th>\n",
              "      <td>2015-03-17-093153</td>\n",
              "      <td>We can make car steer itself on freeway, do la...</td>\n",
              "      <td>Elon Musk</td>\n",
              "      <td>[Q317521]</td>\n",
              "      <td>2015-03-17 19:25:00</td>\n",
              "      <td>2</td>\n",
              "      <td>[[Elon Musk, 0.8777], [None, 0.1223]]</td>\n",
              "      <td>[http://businessinsider.com/tesla-ceo-elon-mus...</td>\n",
              "      <td>E</td>\n",
              "    </tr>\n",
              "    <tr>\n",
              "      <th>2</th>\n",
              "      <td>2015-12-15-017500</td>\n",
              "      <td>digital intelligence in the way that is most l...</td>\n",
              "      <td>Elon Musk</td>\n",
              "      <td>[Q317521]</td>\n",
              "      <td>2015-12-15 00:00:00</td>\n",
              "      <td>54</td>\n",
              "      <td>[[Elon Musk, 0.5269], [None, 0.3189], [Sam Alt...</td>\n",
              "      <td>[http://abcnews.go.com/Technology/wireStory/te...</td>\n",
              "      <td>E</td>\n",
              "    </tr>\n",
              "    <tr>\n",
              "      <th>3</th>\n",
              "      <td>2015-03-19-110498</td>\n",
              "      <td>where if you take your hand off the wheel the ...</td>\n",
              "      <td>Elon Musk</td>\n",
              "      <td>[Q317521]</td>\n",
              "      <td>2015-03-19 19:27:17</td>\n",
              "      <td>2</td>\n",
              "      <td>[[Elon Musk, 0.9395], [None, 0.0605]]</td>\n",
              "      <td>[http://blog.caranddriver.com/tesla-software-u...</td>\n",
              "      <td>E</td>\n",
              "    </tr>\n",
              "    <tr>\n",
              "      <th>4</th>\n",
              "      <td>2015-12-19-003843</td>\n",
              "      <td>Artificial intelligence has always been a surp...</td>\n",
              "      <td>Elon Musk</td>\n",
              "      <td>[Q317521]</td>\n",
              "      <td>2015-12-19 18:36:09</td>\n",
              "      <td>1</td>\n",
              "      <td>[[Elon Musk, 0.7974], [None, 0.1826], [Peter T...</td>\n",
              "      <td>[http://feeds.inquisitr.com/~r/google/yDYq/~3/...</td>\n",
              "      <td>E</td>\n",
              "    </tr>\n",
              "    <tr>\n",
              "      <th>...</th>\n",
              "      <td>...</td>\n",
              "      <td>...</td>\n",
              "      <td>...</td>\n",
              "      <td>...</td>\n",
              "      <td>...</td>\n",
              "      <td>...</td>\n",
              "      <td>...</td>\n",
              "      <td>...</td>\n",
              "      <td>...</td>\n",
              "    </tr>\n",
              "    <tr>\n",
              "      <th>43596</th>\n",
              "      <td>2020-01-22-073958</td>\n",
              "      <td>Since the spacecraft has an extremely effectiv...</td>\n",
              "      <td>Elon Musk</td>\n",
              "      <td>[Q317521]</td>\n",
              "      <td>2020-01-22 12:14:35</td>\n",
              "      <td>1</td>\n",
              "      <td>[[Elon Musk, 0.7524], [None, 0.1991], [Loren G...</td>\n",
              "      <td>[https://tecake.in/can-apple-live-up-to-apples...</td>\n",
              "      <td>E</td>\n",
              "    </tr>\n",
              "    <tr>\n",
              "      <th>43597</th>\n",
              "      <td>2020-03-21-026450</td>\n",
              "      <td>probably won't be needed,</td>\n",
              "      <td>Elon Musk</td>\n",
              "      <td>[Q317521]</td>\n",
              "      <td>2020-03-21 00:00:00</td>\n",
              "      <td>3</td>\n",
              "      <td>[[Elon Musk, 0.8889], [None, 0.1087], [Warren ...</td>\n",
              "      <td>[https://www.forbes.com/sites/hayleycuccinello...</td>\n",
              "      <td>E</td>\n",
              "    </tr>\n",
              "    <tr>\n",
              "      <th>43598</th>\n",
              "      <td>2020-03-30-026197</td>\n",
              "      <td>in the not-bankrupt category.</td>\n",
              "      <td>Elon Musk</td>\n",
              "      <td>[Q317521]</td>\n",
              "      <td>2020-03-30 16:32:02</td>\n",
              "      <td>1</td>\n",
              "      <td>[[Elon Musk, 0.8683], [None, 0.1317]]</td>\n",
              "      <td>[https://arstechnica.com/information-technolog...</td>\n",
              "      <td>E</td>\n",
              "    </tr>\n",
              "    <tr>\n",
              "      <th>43599</th>\n",
              "      <td>2020-03-12-066727</td>\n",
              "      <td>the stock market was too high and was due a co...</td>\n",
              "      <td>Elon Musk</td>\n",
              "      <td>[Q317521]</td>\n",
              "      <td>2020-03-12 06:30:20</td>\n",
              "      <td>1</td>\n",
              "      <td>[[Elon Musk, 0.542], [None, 0.4297], [Amancio ...</td>\n",
              "      <td>[http://www.albawaba.com/business/these-6-bill...</td>\n",
              "      <td>E</td>\n",
              "    </tr>\n",
              "    <tr>\n",
              "      <th>43600</th>\n",
              "      <td>2020-02-05-100393</td>\n",
              "      <td>This shouldn't be thought of as USA only,</td>\n",
              "      <td>Elon Musk</td>\n",
              "      <td>[Q317521]</td>\n",
              "      <td>2020-02-05 09:19:00</td>\n",
              "      <td>3</td>\n",
              "      <td>[[Elon Musk, 0.7804], [None, 0.2196]]</td>\n",
              "      <td>[https://www.businessinsider.in/careers/news/e...</td>\n",
              "      <td>E</td>\n",
              "    </tr>\n",
              "  </tbody>\n",
              "</table>\n",
              "<p>43601 rows × 9 columns</p>\n",
              "</div>"
            ],
            "text/plain": [
              "                 quoteID  ... phase\n",
              "0      2015-08-07-046061  ...     E\n",
              "1      2015-03-17-093153  ...     E\n",
              "2      2015-12-15-017500  ...     E\n",
              "3      2015-03-19-110498  ...     E\n",
              "4      2015-12-19-003843  ...     E\n",
              "...                  ...  ...   ...\n",
              "43596  2020-01-22-073958  ...     E\n",
              "43597  2020-03-21-026450  ...     E\n",
              "43598  2020-03-30-026197  ...     E\n",
              "43599  2020-03-12-066727  ...     E\n",
              "43600  2020-02-05-100393  ...     E\n",
              "\n",
              "[43601 rows x 9 columns]"
            ]
          },
          "metadata": {},
          "execution_count": 15
        }
      ]
    },
    {
      "cell_type": "markdown",
      "metadata": {
        "id": "ko5lk5dd8-BI"
      },
      "source": [
        "***We select from our dataframe all the quotes that contains the key world tesla and others in order to create a new data frame with these quotes***"
      ]
    },
    {
      "cell_type": "code",
      "metadata": {
        "colab": {
          "base_uri": "https://localhost:8080/"
        },
        "id": "5iNC_btL8zcQ",
        "outputId": "5ad70d10-eb49-41ef-863d-0343e219a0c0"
      },
      "source": [
        "filtered_indexes = []\n",
        "key_word = ['tesla','bitcoin','spacex']\n",
        "length = len(df_musk.quotation)\n",
        "for k in range(len(key_word)):\n",
        "  for i in range (length):\n",
        "    quote = df_musk.iloc[i]['quotation']\n",
        "    if key_word[k] in quote.lower():\n",
        "        filtered_indexes.append(i)\n",
        "\n",
        "print(len(tesla_indexes))\n",
        "filtered_df = df_musk.iloc[filtered_indexes] #creates a dataframe with all the quotes containing our keywords"
      ],
      "execution_count": null,
      "outputs": [
        {
          "output_type": "stream",
          "name": "stdout",
          "text": [
            "4693\n"
          ]
        }
      ]
    },
    {
      "cell_type": "markdown",
      "metadata": {
        "id": "7Xm9h55F6QUE"
      },
      "source": [
        "***1. Importing tesla stock price from Yahoo Finance***"
      ]
    },
    {
      "cell_type": "code",
      "metadata": {
        "colab": {
          "base_uri": "https://localhost:8080/",
          "height": 235
        },
        "id": "t98VDsdL1lAq",
        "outputId": "fefecf23-d1eb-4ebb-f5d9-7a2b49b80614"
      },
      "source": [
        "tesla = web.get_data_yahoo(\"TSLA\",\n",
        "                            start = \"2015-01-02\",\n",
        "                            end = \"2020-12-30\")\n",
        "tesla.head()"
      ],
      "execution_count": null,
      "outputs": [
        {
          "output_type": "execute_result",
          "data": {
            "text/html": [
              "<div>\n",
              "<style scoped>\n",
              "    .dataframe tbody tr th:only-of-type {\n",
              "        vertical-align: middle;\n",
              "    }\n",
              "\n",
              "    .dataframe tbody tr th {\n",
              "        vertical-align: top;\n",
              "    }\n",
              "\n",
              "    .dataframe thead th {\n",
              "        text-align: right;\n",
              "    }\n",
              "</style>\n",
              "<table border=\"1\" class=\"dataframe\">\n",
              "  <thead>\n",
              "    <tr style=\"text-align: right;\">\n",
              "      <th></th>\n",
              "      <th>High</th>\n",
              "      <th>Low</th>\n",
              "      <th>Open</th>\n",
              "      <th>Close</th>\n",
              "      <th>Volume</th>\n",
              "      <th>Adj Close</th>\n",
              "    </tr>\n",
              "    <tr>\n",
              "      <th>Date</th>\n",
              "      <th></th>\n",
              "      <th></th>\n",
              "      <th></th>\n",
              "      <th></th>\n",
              "      <th></th>\n",
              "      <th></th>\n",
              "    </tr>\n",
              "  </thead>\n",
              "  <tbody>\n",
              "    <tr>\n",
              "      <th>2015-01-02</th>\n",
              "      <td>44.650002</td>\n",
              "      <td>42.652000</td>\n",
              "      <td>44.574001</td>\n",
              "      <td>43.862000</td>\n",
              "      <td>23822000.0</td>\n",
              "      <td>43.862000</td>\n",
              "    </tr>\n",
              "    <tr>\n",
              "      <th>2015-01-05</th>\n",
              "      <td>43.299999</td>\n",
              "      <td>41.431999</td>\n",
              "      <td>42.910000</td>\n",
              "      <td>42.018002</td>\n",
              "      <td>26842500.0</td>\n",
              "      <td>42.018002</td>\n",
              "    </tr>\n",
              "    <tr>\n",
              "      <th>2015-01-06</th>\n",
              "      <td>42.840000</td>\n",
              "      <td>40.841999</td>\n",
              "      <td>42.012001</td>\n",
              "      <td>42.256001</td>\n",
              "      <td>31309500.0</td>\n",
              "      <td>42.256001</td>\n",
              "    </tr>\n",
              "    <tr>\n",
              "      <th>2015-01-07</th>\n",
              "      <td>42.956001</td>\n",
              "      <td>41.956001</td>\n",
              "      <td>42.669998</td>\n",
              "      <td>42.189999</td>\n",
              "      <td>14842000.0</td>\n",
              "      <td>42.189999</td>\n",
              "    </tr>\n",
              "    <tr>\n",
              "      <th>2015-01-08</th>\n",
              "      <td>42.759998</td>\n",
              "      <td>42.001999</td>\n",
              "      <td>42.562000</td>\n",
              "      <td>42.124001</td>\n",
              "      <td>17212500.0</td>\n",
              "      <td>42.124001</td>\n",
              "    </tr>\n",
              "  </tbody>\n",
              "</table>\n",
              "</div>"
            ],
            "text/plain": [
              "                 High        Low       Open      Close      Volume  Adj Close\n",
              "Date                                                                         \n",
              "2015-01-02  44.650002  42.652000  44.574001  43.862000  23822000.0  43.862000\n",
              "2015-01-05  43.299999  41.431999  42.910000  42.018002  26842500.0  42.018002\n",
              "2015-01-06  42.840000  40.841999  42.012001  42.256001  31309500.0  42.256001\n",
              "2015-01-07  42.956001  41.956001  42.669998  42.189999  14842000.0  42.189999\n",
              "2015-01-08  42.759998  42.001999  42.562000  42.124001  17212500.0  42.124001"
            ]
          },
          "metadata": {},
          "execution_count": 5
        }
      ]
    },
    {
      "cell_type": "markdown",
      "metadata": {
        "id": "5EyotVTj6e6C"
      },
      "source": [
        "***Plot the evolution of Tesla stock price over time***\n"
      ]
    },
    {
      "cell_type": "code",
      "metadata": {
        "colab": {
          "base_uri": "https://localhost:8080/",
          "height": 285
        },
        "id": "9B0UZ7h13lhp",
        "outputId": "8a8203fe-e34f-433b-a51c-4520b5c0f215"
      },
      "source": [
        "tesla['Close'].plot()\n",
        "plt.xlabel(\"Date\")\n",
        "plt.ylabel(\"Close\")\n",
        "plt.title(\"Tesla Price data\")\n",
        "plt.show()"
      ],
      "execution_count": null,
      "outputs": [
        {
          "output_type": "display_data",
          "data": {
            "image/png": "[encoded data removed]",
            "text/plain": [
              "<Figure size 432x288 with 1 Axes>"
            ]
          },
          "metadata": {
            "needs_background": "light"
          }
        }
      ]
    },
    {
      "cell_type": "markdown",
      "metadata": {
        "id": "HYmeMW8q67E3"
      },
      "source": [
        "***Calculating and plotting the daily returns of Tesla stock***"
      ]
    },
    {
      "cell_type": "code",
      "metadata": {
        "id": "16c874Fkw-cY",
        "colab": {
          "base_uri": "https://localhost:8080/",
          "height": 295
        },
        "outputId": "8a45d5b1-0d27-444a-bafe-b046ec3c9b9d"
      },
      "source": [
        "tesla['returns'] = tesla['Close'].pct_change()\n",
        "tesla.head()\n",
        "plt.plot(tesla.returns)\n",
        "plt.xlabel(\"Date\")\n",
        "plt.ylabel(\"Percent\")\n",
        "plt.title(\"Tesla daily returns data\")\n",
        "plt.show()"
      ],
      "execution_count": null,
      "outputs": [
        {
          "output_type": "display_data",
          "data": {
            "image/png": "[encoded data removed]",
            "text/plain": [
              "<Figure size 432x288 with 1 Axes>"
            ]
          },
          "metadata": {
            "needs_background": "light"
          }
        }
      ]
    },
    {
      "cell_type": "code",
      "metadata": {
        "colab": {
          "base_uri": "https://localhost:8080/",
          "height": 282
        },
        "id": "mQNYBsLmRVSw",
        "outputId": "7d7c3105-6505-45ac-9a28-7375903212fa"
      },
      "source": [
        "#to get a sense of how extreme the returns can be we can plot a histogram.\n",
        "tesla.returns.hist(bins=60)"
      ],
      "execution_count": null,
      "outputs": [
        {
          "output_type": "execute_result",
          "data": {
            "text/plain": [
              "<matplotlib.axes._subplots.AxesSubplot at 0x7fd8d0a0fd90>"
            ]
          },
          "metadata": {},
          "execution_count": 8
        },
        {
          "output_type": "display_data",
          "data": {
            "image/png": "[encoded data removed]",
            "text/plain": [
              "<Figure size 432x288 with 1 Axes>"
            ]
          },
          "metadata": {
            "needs_background": "light"
          }
        }
      ]
    },
    {
      "cell_type": "markdown",
      "metadata": {
        "id": "AF_nAwfwbnEm"
      },
      "source": [
        "**Cleaning the quotations**\n",
        " \n",
        "This function will prepare the quotations so that we can use them afterwards to perform analysis, basically it will do the following: \n",
        "\n",
        "\n",
        "*   Transform to lower case, remove all that is not words or numbers.  \n",
        "*   Tokenization meaning breaking up every quotation into a group of indivudual words.\n",
        "*   Remove stopwords which does not add much information to the quotations. \n",
        "\n"
      ]
    },
    {
      "cell_type": "code",
      "metadata": {
        "id": "ueh1aD_NnkKX"
      },
      "source": [
        "#nltk.download('stopwords')\n",
        "sw = stopwords.words('english')\n",
        "def clean_quotation(quotation):\n",
        "  quotation = quotation.lower()\n",
        "  quotation = re.sub('@', '', quotation)\n",
        "  quotation = re.sub('\\n', '', quotation)\n",
        "  quotation = re.sub('[%s]' % re.escape(string.punctuation), '', quotation)\n",
        "  #Tokenization \n",
        "  quotation = nltk.word_tokenize(quotation)\n",
        "\n",
        "  #Removing stopwords\n",
        "  quotation_without_sw = [word for word in quotation if not word in sw]\n",
        "\n",
        "  return quotation_without_sw\n"
      ],
      "execution_count": null,
      "outputs": []
    },
    {
      "cell_type": "code",
      "metadata": {
        "id": "-hZwZoOg16j8",
        "colab": {
          "base_uri": "https://localhost:8080/"
        },
        "outputId": "cc323ae5-aa21-44bd-d903-c7739b24af5e"
      },
      "source": [
        "filtered_df['prepQuot'] = filtered_df['quotation'].apply(lambda x: clean_quotation(x))\n"
      ],
      "execution_count": null,
      "outputs": [
        {
          "output_type": "stream",
          "name": "stderr",
          "text": [
            "/usr/local/lib/python3.7/dist-packages/ipykernel_launcher.py:1: SettingWithCopyWarning: \n",
            "A value is trying to be set on a copy of a slice from a DataFrame.\n",
            "Try using .loc[row_indexer,col_indexer] = value instead\n",
            "\n",
            "See the caveats in the documentation: https://pandas.pydata.org/pandas-docs/stable/user_guide/indexing.html#returning-a-view-versus-a-copy\n",
            "  \"\"\"Entry point for launching an IPython kernel.\n"
          ]
        }
      ]
    },
    {
      "cell_type": "code",
      "metadata": {
        "colab": {
          "base_uri": "https://localhost:8080/"
        },
        "id": "fA92EDlwE_7X",
        "outputId": "78c0d633-13ec-4d44-c8ee-52710419a755"
      },
      "source": [
        "filtered_df.head"
      ],
      "execution_count": null,
      "outputs": [
        {
          "output_type": "execute_result",
          "data": {
            "text/plain": [
              "<bound method NDFrame.head of                  quoteID  ...                                           prepQuot\n",
              "9      2015-10-14-022047  ...  [elon, musk, apple, hired, tesla, engineers, w...\n",
              "52     2015-10-09-112605  ...  [hired, people, weve, fired, always, jokingly,...\n",
              "69     2015-04-01-106327  ...  [going, unveil, tesla, home, battery, sort, co...\n",
              "142    2015-08-20-128647  ...  [believe, applying, opensource, philosophy, pa...\n",
              "157    2015-10-23-088862  ...  [tesla, gets, top, rating, company, service, i...\n",
              "...                  ...  ...                                                ...\n",
              "43439  2020-01-14-061750  ...  [prior, launch, spacex, nasa, teams, practice,...\n",
              "43453  2020-02-07-076183  ...  [spacex, public, company, experience, may, thi...\n",
              "43459  2020-03-20-057283  ...  [tesla, makes, cars, sophisticated, hvac, heat...\n",
              "43468  2020-01-28-014771  ...  [critically, tank, reached, maximum, sustained...\n",
              "43594  2020-03-19-059397  ...  [tesla, makes, cars, sophisticated, hvac, syst...\n",
              "\n",
              "[4693 rows x 10 columns]>"
            ]
          },
          "metadata": {},
          "execution_count": 28
        }
      ]
    },
    {
      "cell_type": "markdown",
      "metadata": {
        "id": "rC1FXY9kwM7q"
      },
      "source": [
        "**Lemmatization**\n",
        "\n",
        "Here we are grouping the inflected forms of a word so we can analyze them as a single item. \n"
      ]
    },
    {
      "cell_type": "code",
      "metadata": {
        "id": "aKykanIz5_sw"
      },
      "source": [
        "#identifies the role of the word in the sentence \n",
        "def get_wordnet_pos(word):\n",
        "    tag = nltk.pos_tag([word])[0][1][0].upper()\n",
        "    tag_dict = {\"J\": wordnet.ADJ,\n",
        "                \"N\": wordnet.NOUN,\n",
        "                \"V\": wordnet.VERB,\n",
        "                \"R\": wordnet.ADV}\n",
        "\n",
        "    return tag_dict.get(tag, wordnet.NOUN)"
      ],
      "execution_count": null,
      "outputs": []
    },
    {
      "cell_type": "code",
      "metadata": {
        "id": "FoF_ufycxxw9"
      },
      "source": [
        "# Initialize Lemmatizer\n",
        "lemmatizer = WordNetLemmatizer()\n",
        "\n",
        "def lematization(wordsInQuotation):\n",
        "  lem_words = []\n",
        "  for i in range(len(wordsInQuotation)):\n",
        "    lem_words.append(lemmatizer.lemmatize(wordsInQuotation[i], get_wordnet_pos(wordsInQuotation[i])))\n",
        "    \n",
        "  lem_quotation =  ' '.join(lem_words)\n",
        "  return lem_quotation\n",
        "\n"
      ],
      "execution_count": null,
      "outputs": []
    },
    {
      "cell_type": "code",
      "metadata": {
        "id": "klER06kW_1ii",
        "colab": {
          "base_uri": "https://localhost:8080/"
        },
        "outputId": "1b1980b6-eff6-4801-b5ae-522b470d69c0"
      },
      "source": [
        "filtered_df['prepQuot'] = filtered_df['prepQuot'].apply(lambda x: lematization(x))"
      ],
      "execution_count": null,
      "outputs": [
        {
          "output_type": "stream",
          "name": "stderr",
          "text": [
            "/usr/local/lib/python3.7/dist-packages/ipykernel_launcher.py:1: SettingWithCopyWarning: \n",
            "A value is trying to be set on a copy of a slice from a DataFrame.\n",
            "Try using .loc[row_indexer,col_indexer] = value instead\n",
            "\n",
            "See the caveats in the documentation: https://pandas.pydata.org/pandas-docs/stable/user_guide/indexing.html#returning-a-view-versus-a-copy\n",
            "  \"\"\"Entry point for launching an IPython kernel.\n"
          ]
        }
      ]
    },
    {
      "cell_type": "code",
      "metadata": {
        "colab": {
          "base_uri": "https://localhost:8080/"
        },
        "id": "Dyb509njHwHz",
        "outputId": "a8528850-f4b4-4c34-e708-d169f5ec210e"
      },
      "source": [
        "filtered_df['prepQuot']"
      ],
      "execution_count": null,
      "outputs": [
        {
          "output_type": "execute_result",
          "data": {
            "text/plain": [
              "9            elon musk apple hire tesla engineer weve fire\n",
              "52       hire people weve fire always jokingly call app...\n",
              "69       go unveil tesla home battery sort consumer bat...\n",
              "142      believe apply opensource philosophy patent str...\n",
              "157      tesla get top rating company service important...\n",
              "                               ...                        \n",
              "43439    prior launch spacex nasa team practice launch ...\n",
              "43453    spacex public company experience may think pub...\n",
              "43459    tesla make car sophisticated hvac heating vent...\n",
              "43468    critically tank reach maximum sustain pressure...\n",
              "43594    tesla make car sophisticated hvac system space...\n",
              "Name: prepQuot, Length: 4693, dtype: object"
            ]
          },
          "metadata": {},
          "execution_count": 47
        }
      ]
    }
  ]
}